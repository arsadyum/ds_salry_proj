{
 "cells": [
  {
   "cell_type": "code",
   "execution_count": 1,
   "metadata": {},
   "outputs": [],
   "source": [
    "import pandas as pd\n",
    "import matplotlib.pyplot as plt\n",
    "import seaborn as sns"
   ]
  },
  {
   "cell_type": "code",
   "execution_count": 2,
   "metadata": {},
   "outputs": [
    {
     "data": {
      "text/html": [
       "<div>\n",
       "<style scoped>\n",
       "    .dataframe tbody tr th:only-of-type {\n",
       "        vertical-align: middle;\n",
       "    }\n",
       "\n",
       "    .dataframe tbody tr th {\n",
       "        vertical-align: top;\n",
       "    }\n",
       "\n",
       "    .dataframe thead th {\n",
       "        text-align: right;\n",
       "    }\n",
       "</style>\n",
       "<table border=\"1\" class=\"dataframe\">\n",
       "  <thead>\n",
       "    <tr style=\"text-align: right;\">\n",
       "      <th></th>\n",
       "      <th>Job Title</th>\n",
       "      <th>Salary Estimate</th>\n",
       "      <th>Job Description</th>\n",
       "      <th>Rating</th>\n",
       "      <th>Company Name</th>\n",
       "      <th>Location</th>\n",
       "      <th>Headquarters</th>\n",
       "      <th>Size</th>\n",
       "      <th>Founded</th>\n",
       "      <th>Type of ownership</th>\n",
       "      <th>...</th>\n",
       "      <th>max_salary</th>\n",
       "      <th>avg_salary</th>\n",
       "      <th>Company_text</th>\n",
       "      <th>Job_State</th>\n",
       "      <th>Same_State</th>\n",
       "      <th>Company_Age</th>\n",
       "      <th>python_yn</th>\n",
       "      <th>SQL_yn</th>\n",
       "      <th>Hadoop_yn</th>\n",
       "      <th>AWS_yn</th>\n",
       "    </tr>\n",
       "  </thead>\n",
       "  <tbody>\n",
       "    <tr>\n",
       "      <th>0</th>\n",
       "      <td>Data Engineer</td>\n",
       "      <td>$69K-$91K (Glassdoor est.)</td>\n",
       "      <td>POSITION SUMMARY\\n\\n\\nThe candidate will be jo...</td>\n",
       "      <td>3.6</td>\n",
       "      <td>Bayview Asset Management\\n3.6</td>\n",
       "      <td>Coral Gables, FL</td>\n",
       "      <td>Coral Gables, FL</td>\n",
       "      <td>1001 to 5000 employees</td>\n",
       "      <td>1995</td>\n",
       "      <td>Company - Private</td>\n",
       "      <td>...</td>\n",
       "      <td>91</td>\n",
       "      <td>80.0</td>\n",
       "      <td>Bayview Asset Management\\n</td>\n",
       "      <td>FL</td>\n",
       "      <td>1</td>\n",
       "      <td>25</td>\n",
       "      <td>1</td>\n",
       "      <td>0</td>\n",
       "      <td>0</td>\n",
       "      <td>0</td>\n",
       "    </tr>\n",
       "    <tr>\n",
       "      <th>1</th>\n",
       "      <td>Data Engineer</td>\n",
       "      <td>$69K-$91K (Glassdoor est.)</td>\n",
       "      <td>Secure our Nation, Ignite your Future\\n\\nThis ...</td>\n",
       "      <td>4.1</td>\n",
       "      <td>ManTech\\n4.1</td>\n",
       "      <td>Herndon, VA</td>\n",
       "      <td>Herndon, VA</td>\n",
       "      <td>5001 to 10000 employees</td>\n",
       "      <td>1968</td>\n",
       "      <td>Company - Public</td>\n",
       "      <td>...</td>\n",
       "      <td>91</td>\n",
       "      <td>80.0</td>\n",
       "      <td>ManTech\\n</td>\n",
       "      <td>VA</td>\n",
       "      <td>1</td>\n",
       "      <td>52</td>\n",
       "      <td>0</td>\n",
       "      <td>0</td>\n",
       "      <td>0</td>\n",
       "      <td>0</td>\n",
       "    </tr>\n",
       "    <tr>\n",
       "      <th>2</th>\n",
       "      <td>Senior Data Engineer</td>\n",
       "      <td>$69K-$91K (Glassdoor est.)</td>\n",
       "      <td>Company Description\\n\\nPaying the right way, g...</td>\n",
       "      <td>2.8</td>\n",
       "      <td>PayScale\\n2.8</td>\n",
       "      <td>Seattle, WA</td>\n",
       "      <td>Seattle, WA</td>\n",
       "      <td>201 to 500 employees</td>\n",
       "      <td>2002</td>\n",
       "      <td>Company - Private</td>\n",
       "      <td>...</td>\n",
       "      <td>91</td>\n",
       "      <td>80.0</td>\n",
       "      <td>PayScale\\n</td>\n",
       "      <td>WA</td>\n",
       "      <td>1</td>\n",
       "      <td>18</td>\n",
       "      <td>1</td>\n",
       "      <td>0</td>\n",
       "      <td>0</td>\n",
       "      <td>0</td>\n",
       "    </tr>\n",
       "    <tr>\n",
       "      <th>3</th>\n",
       "      <td>Data Engineer</td>\n",
       "      <td>$69K-$91K (Glassdoor est.)</td>\n",
       "      <td>BRMi Technology is seeking multiple Data Engin...</td>\n",
       "      <td>4.4</td>\n",
       "      <td>BRMi\\n4.4</td>\n",
       "      <td>Chantilly, VA</td>\n",
       "      <td>Silver Spring, MD</td>\n",
       "      <td>51 to 200 employees</td>\n",
       "      <td>2004</td>\n",
       "      <td>Company - Private</td>\n",
       "      <td>...</td>\n",
       "      <td>91</td>\n",
       "      <td>80.0</td>\n",
       "      <td>BRMi\\n</td>\n",
       "      <td>VA</td>\n",
       "      <td>0</td>\n",
       "      <td>16</td>\n",
       "      <td>1</td>\n",
       "      <td>0</td>\n",
       "      <td>0</td>\n",
       "      <td>0</td>\n",
       "    </tr>\n",
       "    <tr>\n",
       "      <th>4</th>\n",
       "      <td>Data Engineer</td>\n",
       "      <td>$69K-$91K (Glassdoor est.)</td>\n",
       "      <td>IZEA was built to connect the world’s top bran...</td>\n",
       "      <td>4.2</td>\n",
       "      <td>IZEA\\n4.2</td>\n",
       "      <td>Winter Park, FL</td>\n",
       "      <td>Winter Park, FL</td>\n",
       "      <td>51 to 200 employees</td>\n",
       "      <td>2006</td>\n",
       "      <td>Company - Public</td>\n",
       "      <td>...</td>\n",
       "      <td>91</td>\n",
       "      <td>80.0</td>\n",
       "      <td>IZEA\\n</td>\n",
       "      <td>FL</td>\n",
       "      <td>1</td>\n",
       "      <td>14</td>\n",
       "      <td>1</td>\n",
       "      <td>0</td>\n",
       "      <td>0</td>\n",
       "      <td>0</td>\n",
       "    </tr>\n",
       "  </tbody>\n",
       "</table>\n",
       "<p>5 rows × 25 columns</p>\n",
       "</div>"
      ],
      "text/plain": [
       "              Job Title             Salary Estimate  \\\n",
       "0         Data Engineer  $69K-$91K (Glassdoor est.)   \n",
       "1         Data Engineer  $69K-$91K (Glassdoor est.)   \n",
       "2  Senior Data Engineer  $69K-$91K (Glassdoor est.)   \n",
       "3         Data Engineer  $69K-$91K (Glassdoor est.)   \n",
       "4         Data Engineer  $69K-$91K (Glassdoor est.)   \n",
       "\n",
       "                                     Job Description  Rating  \\\n",
       "0  POSITION SUMMARY\\n\\n\\nThe candidate will be jo...     3.6   \n",
       "1  Secure our Nation, Ignite your Future\\n\\nThis ...     4.1   \n",
       "2  Company Description\\n\\nPaying the right way, g...     2.8   \n",
       "3  BRMi Technology is seeking multiple Data Engin...     4.4   \n",
       "4  IZEA was built to connect the world’s top bran...     4.2   \n",
       "\n",
       "                    Company Name          Location       Headquarters  \\\n",
       "0  Bayview Asset Management\\n3.6  Coral Gables, FL   Coral Gables, FL   \n",
       "1                   ManTech\\n4.1       Herndon, VA        Herndon, VA   \n",
       "2                  PayScale\\n2.8       Seattle, WA        Seattle, WA   \n",
       "3                      BRMi\\n4.4     Chantilly, VA  Silver Spring, MD   \n",
       "4                      IZEA\\n4.2   Winter Park, FL    Winter Park, FL   \n",
       "\n",
       "                      Size  Founded  Type of ownership  ... max_salary  \\\n",
       "0   1001 to 5000 employees     1995  Company - Private  ...         91   \n",
       "1  5001 to 10000 employees     1968   Company - Public  ...         91   \n",
       "2     201 to 500 employees     2002  Company - Private  ...         91   \n",
       "3      51 to 200 employees     2004  Company - Private  ...         91   \n",
       "4      51 to 200 employees     2006   Company - Public  ...         91   \n",
       "\n",
       "  avg_salary                Company_text Job_State  Same_State  Company_Age  \\\n",
       "0       80.0  Bayview Asset Management\\n        FL           1           25   \n",
       "1       80.0                   ManTech\\n        VA           1           52   \n",
       "2       80.0                  PayScale\\n        WA           1           18   \n",
       "3       80.0                      BRMi\\n        VA           0           16   \n",
       "4       80.0                      IZEA\\n        FL           1           14   \n",
       "\n",
       "   python_yn SQL_yn Hadoop_yn  AWS_yn  \n",
       "0          1      0         0       0  \n",
       "1          0      0         0       0  \n",
       "2          1      0         0       0  \n",
       "3          1      0         0       0  \n",
       "4          1      0         0       0  \n",
       "\n",
       "[5 rows x 25 columns]"
      ]
     },
     "execution_count": 2,
     "metadata": {},
     "output_type": "execute_result"
    }
   ],
   "source": [
    "df = pd.read_csv('glassdoor_cleandedata.csv')\n",
    "df.head()"
   ]
  },
  {
   "cell_type": "code",
   "execution_count": 3,
   "metadata": {},
   "outputs": [
    {
     "data": {
      "text/plain": [
       "Index(['Job Title', 'Salary Estimate', 'Job Description', 'Rating',\n",
       "       'Company Name', 'Location', 'Headquarters', 'Size', 'Founded',\n",
       "       'Type of ownership', 'Industry', 'Sector', 'Revenue', 'Competitors',\n",
       "       'min_salary', 'max_salary', 'avg_salary', 'Company_text', 'Job_State',\n",
       "       'Same_State', 'Company_Age', 'python_yn', 'SQL_yn', 'Hadoop_yn',\n",
       "       'AWS_yn'],\n",
       "      dtype='object')"
      ]
     },
     "execution_count": 3,
     "metadata": {},
     "output_type": "execute_result"
    }
   ],
   "source": [
    "df.columns"
   ]
  },
  {
   "cell_type": "code",
   "execution_count": 4,
   "metadata": {},
   "outputs": [],
   "source": [
    "def title_simplifier(title):\n",
    "    if 'data engineer' in title.lower():\n",
    "        return 'data engineer'\n",
    "    elif 'data scientist' in title.lower():\n",
    "        return 'data scientist'\n",
    "    elif 'Software' in title.lower():\n",
    "        return 'Software Engineer'\n",
    "    elif 'big data' in title.lower():\n",
    "        return 'big data engineer'\n",
    "    elif 'devops engineer' in title.lower():\n",
    "        return 'devops engineer'\n",
    "    elif 'director' in title.lower():\n",
    "        return 'director'\n",
    "    elif 'cloud' in title.lower():\n",
    "        return 'cloud architecht'\n",
    "    elif 'analyst' in title.lower():\n",
    "        return 'data analyst'\n",
    "    elif 'systems' in title.lower():\n",
    "        return 'systems engineer'\n",
    "    elif 'manager' in title.lower():\n",
    "        return 'manager'\n",
    "    else:\n",
    "        return 'na'\n",
    "    \n",
    "def seniority(title):\n",
    "    if 'sr' in title.lower() or 'senior' in title.lower() or 'sr' in title.lower() or 'lead' in title.lower() or 'principal' in title.lower():\n",
    "            return 'senior'\n",
    "    elif 'jr' in title.lower() or 'jr.' in title.lower():\n",
    "        return 'jr'\n",
    "    else:\n",
    "        return 'na'\n",
    "\t\t\n",
    "\n",
    "\t\t"
   ]
  },
  {
   "cell_type": "code",
   "execution_count": 5,
   "metadata": {},
   "outputs": [],
   "source": [
    "# Job title\n",
    "df['job_simple'] = df['Job Title'].apply(title_simplifier)"
   ]
  },
  {
   "cell_type": "code",
   "execution_count": 6,
   "metadata": {},
   "outputs": [
    {
     "data": {
      "text/plain": [
       "na                   587\n",
       "data engineer        185\n",
       "systems engineer      60\n",
       "data analyst          20\n",
       "cloud architecht      20\n",
       "devops engineer       16\n",
       "data scientist        10\n",
       "big data engineer      5\n",
       "manager                5\n",
       "director               2\n",
       "Name: job_simple, dtype: int64"
      ]
     },
     "execution_count": 6,
     "metadata": {},
     "output_type": "execute_result"
    }
   ],
   "source": [
    "df.job_simple.value_counts()"
   ]
  },
  {
   "cell_type": "code",
   "execution_count": 7,
   "metadata": {},
   "outputs": [],
   "source": [
    "#Job seniority \n",
    "df['seniority'] = df['Job Title'].apply(seniority)"
   ]
  },
  {
   "cell_type": "code",
   "execution_count": 8,
   "metadata": {},
   "outputs": [
    {
     "data": {
      "text/plain": [
       "na        563\n",
       "senior    347\n",
       "Name: seniority, dtype: int64"
      ]
     },
     "execution_count": 8,
     "metadata": {},
     "output_type": "execute_result"
    }
   ],
   "source": [
    "df.seniority.value_counts()"
   ]
  },
  {
   "cell_type": "code",
   "execution_count": 13,
   "metadata": {},
   "outputs": [
    {
     "data": {
      "text/plain": [
       "CA        152\n",
       "MA        104\n",
       "VA         78\n",
       "NY         69\n",
       "IL         68\n",
       "MD         47\n",
       "WA         32\n",
       "TX         28\n",
       "GA         25\n",
       "MI         24\n",
       "MO         20\n",
       "UT         18\n",
       "MN         18\n",
       "OH         18\n",
       "CO         17\n",
       "PA         16\n",
       "Remote     14\n",
       "NJ         14\n",
       "NC         13\n",
       "AZ         12\n",
       "WI         11\n",
       "OR         11\n",
       "SC         11\n",
       "IA          9\n",
       "IN          9\n",
       "AL          9\n",
       "TN          8\n",
       "FL          7\n",
       "USA         5\n",
       "NM          5\n",
       "CT          4\n",
       "VT          4\n",
       "DC          4\n",
       "LA          4\n",
       "KY          4\n",
       "WY          3\n",
       "DE          3\n",
       "NV          2\n",
       "NE          2\n",
       "SD          2\n",
       "ID          2\n",
       "ME          2\n",
       "RI          1\n",
       "WV          1\n",
       "Name: Job_State, dtype: int64"
      ]
     },
     "execution_count": 13,
     "metadata": {},
     "output_type": "execute_result"
    }
   ],
   "source": [
    "#  Fix state Los Angeles\n",
    "df['Job_State'] = df.Job_State.apply(lambda x: x.strip() if x.strip().lower() != 'virginia' else \"VA\")\n",
    "df['Job_State'] = df.Job_State.apply(lambda x: x.strip() if x.strip().lower() != 'minnesota' else \"MN\")\n",
    "df['Job_State'] = df.Job_State.apply(lambda x: x.strip() if x.strip().lower() != 'united states' else \"USA\")\n",
    "df.Job_State.value_counts()"
   ]
  },
  {
   "cell_type": "code",
   "execution_count": 15,
   "metadata": {},
   "outputs": [
    {
     "data": {
      "text/plain": [
       "0       1768\n",
       "1       3243\n",
       "2       4160\n",
       "3       2634\n",
       "4      10051\n",
       "       ...  \n",
       "905     3449\n",
       "906     4070\n",
       "907     5634\n",
       "908     3112\n",
       "909     2317\n",
       "Name: jobdesc_len, Length: 910, dtype: int64"
      ]
     },
     "execution_count": 15,
     "metadata": {},
     "output_type": "execute_result"
    }
   ],
   "source": [
    "##  Job description length \n",
    "df['jobdesc_len'] = df['Job Description'].apply(lambda x: len(x))\n",
    "df['jobdesc_len']"
   ]
  },
  {
   "cell_type": "code",
   "execution_count": 24,
   "metadata": {},
   "outputs": [],
   "source": [
    "#  Competitor count\n",
    "df['Competitors']\n",
    "df['number_comp'] = df['Competitors'].apply(lambda x: len(x.split(',')) if x != \"-1\" else 0)"
   ]
  },
  {
   "cell_type": "code",
   "execution_count": 25,
   "metadata": {},
   "outputs": [
    {
     "data": {
      "text/plain": [
       "0      0\n",
       "1      0\n",
       "2      2\n",
       "3      0\n",
       "4      2\n",
       "      ..\n",
       "905    3\n",
       "906    0\n",
       "907    0\n",
       "908    0\n",
       "909    0\n",
       "Name: number_comp, Length: 910, dtype: int64"
      ]
     },
     "execution_count": 25,
     "metadata": {},
     "output_type": "execute_result"
    }
   ],
   "source": [
    "df['number_comp']"
   ]
  },
  {
   "cell_type": "code",
   "execution_count": 27,
   "metadata": {},
   "outputs": [
    {
     "data": {
      "text/plain": [
       "0           Bayview Asset Management\n",
       "1                            ManTech\n",
       "2                           PayScale\n",
       "3                               BRMi\n",
       "4                               IZEA\n",
       "                   ...              \n",
       "905                    Translate Bio\n",
       "906                       Relativity\n",
       "907             Moderna Therapeutics\n",
       "908              CollabraSpace, Inc.\n",
       "909    Watlow Electric Manufacturing\n",
       "Name: Company_text, Length: 910, dtype: object"
      ]
     },
     "execution_count": 27,
     "metadata": {},
     "output_type": "execute_result"
    }
   ],
   "source": [
    "#remove new line from job title\n",
    "df['Company_text'] = df.Company_text.apply(lambda x: x.replace('\\n', ''))\n",
    "df['Company_text']"
   ]
  },
  {
   "cell_type": "code",
   "execution_count": 29,
   "metadata": {},
   "outputs": [
    {
     "data": {
      "text/html": [
       "<div>\n",
       "<style scoped>\n",
       "    .dataframe tbody tr th:only-of-type {\n",
       "        vertical-align: middle;\n",
       "    }\n",
       "\n",
       "    .dataframe tbody tr th {\n",
       "        vertical-align: top;\n",
       "    }\n",
       "\n",
       "    .dataframe thead th {\n",
       "        text-align: right;\n",
       "    }\n",
       "</style>\n",
       "<table border=\"1\" class=\"dataframe\">\n",
       "  <thead>\n",
       "    <tr style=\"text-align: right;\">\n",
       "      <th></th>\n",
       "      <th>Rating</th>\n",
       "      <th>Founded</th>\n",
       "      <th>min_salary</th>\n",
       "      <th>max_salary</th>\n",
       "      <th>avg_salary</th>\n",
       "      <th>Same_State</th>\n",
       "      <th>Company_Age</th>\n",
       "      <th>python_yn</th>\n",
       "      <th>SQL_yn</th>\n",
       "      <th>Hadoop_yn</th>\n",
       "      <th>AWS_yn</th>\n",
       "      <th>jobdesc_len</th>\n",
       "      <th>number_comp</th>\n",
       "    </tr>\n",
       "  </thead>\n",
       "  <tbody>\n",
       "    <tr>\n",
       "      <th>count</th>\n",
       "      <td>910.000000</td>\n",
       "      <td>910.000000</td>\n",
       "      <td>910.000000</td>\n",
       "      <td>910.000000</td>\n",
       "      <td>910.000000</td>\n",
       "      <td>910.000000</td>\n",
       "      <td>910.000000</td>\n",
       "      <td>910.000000</td>\n",
       "      <td>910.0</td>\n",
       "      <td>910.0</td>\n",
       "      <td>910.0</td>\n",
       "      <td>910.000000</td>\n",
       "      <td>910.000000</td>\n",
       "    </tr>\n",
       "    <tr>\n",
       "      <th>mean</th>\n",
       "      <td>3.893516</td>\n",
       "      <td>1985.497802</td>\n",
       "      <td>86.804396</td>\n",
       "      <td>119.984615</td>\n",
       "      <td>103.394505</td>\n",
       "      <td>0.473626</td>\n",
       "      <td>34.502198</td>\n",
       "      <td>0.417582</td>\n",
       "      <td>0.0</td>\n",
       "      <td>0.0</td>\n",
       "      <td>0.0</td>\n",
       "      <td>3918.564835</td>\n",
       "      <td>0.948352</td>\n",
       "    </tr>\n",
       "    <tr>\n",
       "      <th>std</th>\n",
       "      <td>0.564607</td>\n",
       "      <td>38.431021</td>\n",
       "      <td>21.622198</td>\n",
       "      <td>28.460224</td>\n",
       "      <td>22.598674</td>\n",
       "      <td>0.499579</td>\n",
       "      <td>38.431021</td>\n",
       "      <td>0.493432</td>\n",
       "      <td>0.0</td>\n",
       "      <td>0.0</td>\n",
       "      <td>0.0</td>\n",
       "      <td>1431.082758</td>\n",
       "      <td>1.324464</td>\n",
       "    </tr>\n",
       "    <tr>\n",
       "      <th>min</th>\n",
       "      <td>2.200000</td>\n",
       "      <td>1806.000000</td>\n",
       "      <td>48.000000</td>\n",
       "      <td>77.000000</td>\n",
       "      <td>62.500000</td>\n",
       "      <td>0.000000</td>\n",
       "      <td>2.000000</td>\n",
       "      <td>0.000000</td>\n",
       "      <td>0.0</td>\n",
       "      <td>0.0</td>\n",
       "      <td>0.0</td>\n",
       "      <td>703.000000</td>\n",
       "      <td>0.000000</td>\n",
       "    </tr>\n",
       "    <tr>\n",
       "      <th>25%</th>\n",
       "      <td>3.400000</td>\n",
       "      <td>1982.000000</td>\n",
       "      <td>69.000000</td>\n",
       "      <td>100.000000</td>\n",
       "      <td>87.500000</td>\n",
       "      <td>0.000000</td>\n",
       "      <td>11.000000</td>\n",
       "      <td>0.000000</td>\n",
       "      <td>0.0</td>\n",
       "      <td>0.0</td>\n",
       "      <td>0.0</td>\n",
       "      <td>2935.500000</td>\n",
       "      <td>0.000000</td>\n",
       "    </tr>\n",
       "    <tr>\n",
       "      <th>50%</th>\n",
       "      <td>3.800000</td>\n",
       "      <td>2000.000000</td>\n",
       "      <td>89.000000</td>\n",
       "      <td>110.000000</td>\n",
       "      <td>101.000000</td>\n",
       "      <td>0.000000</td>\n",
       "      <td>20.000000</td>\n",
       "      <td>0.000000</td>\n",
       "      <td>0.0</td>\n",
       "      <td>0.0</td>\n",
       "      <td>0.0</td>\n",
       "      <td>3820.000000</td>\n",
       "      <td>0.000000</td>\n",
       "    </tr>\n",
       "    <tr>\n",
       "      <th>75%</th>\n",
       "      <td>4.300000</td>\n",
       "      <td>2009.000000</td>\n",
       "      <td>103.000000</td>\n",
       "      <td>135.000000</td>\n",
       "      <td>117.500000</td>\n",
       "      <td>1.000000</td>\n",
       "      <td>38.000000</td>\n",
       "      <td>1.000000</td>\n",
       "      <td>0.0</td>\n",
       "      <td>0.0</td>\n",
       "      <td>0.0</td>\n",
       "      <td>4701.000000</td>\n",
       "      <td>3.000000</td>\n",
       "    </tr>\n",
       "    <tr>\n",
       "      <th>max</th>\n",
       "      <td>5.000000</td>\n",
       "      <td>2018.000000</td>\n",
       "      <td>132.000000</td>\n",
       "      <td>190.000000</td>\n",
       "      <td>147.500000</td>\n",
       "      <td>1.000000</td>\n",
       "      <td>214.000000</td>\n",
       "      <td>1.000000</td>\n",
       "      <td>0.0</td>\n",
       "      <td>0.0</td>\n",
       "      <td>0.0</td>\n",
       "      <td>11384.000000</td>\n",
       "      <td>4.000000</td>\n",
       "    </tr>\n",
       "  </tbody>\n",
       "</table>\n",
       "</div>"
      ],
      "text/plain": [
       "           Rating      Founded  min_salary  max_salary  avg_salary  \\\n",
       "count  910.000000   910.000000  910.000000  910.000000  910.000000   \n",
       "mean     3.893516  1985.497802   86.804396  119.984615  103.394505   \n",
       "std      0.564607    38.431021   21.622198   28.460224   22.598674   \n",
       "min      2.200000  1806.000000   48.000000   77.000000   62.500000   \n",
       "25%      3.400000  1982.000000   69.000000  100.000000   87.500000   \n",
       "50%      3.800000  2000.000000   89.000000  110.000000  101.000000   \n",
       "75%      4.300000  2009.000000  103.000000  135.000000  117.500000   \n",
       "max      5.000000  2018.000000  132.000000  190.000000  147.500000   \n",
       "\n",
       "       Same_State  Company_Age   python_yn  SQL_yn  Hadoop_yn  AWS_yn  \\\n",
       "count  910.000000   910.000000  910.000000   910.0      910.0   910.0   \n",
       "mean     0.473626    34.502198    0.417582     0.0        0.0     0.0   \n",
       "std      0.499579    38.431021    0.493432     0.0        0.0     0.0   \n",
       "min      0.000000     2.000000    0.000000     0.0        0.0     0.0   \n",
       "25%      0.000000    11.000000    0.000000     0.0        0.0     0.0   \n",
       "50%      0.000000    20.000000    0.000000     0.0        0.0     0.0   \n",
       "75%      1.000000    38.000000    1.000000     0.0        0.0     0.0   \n",
       "max      1.000000   214.000000    1.000000     0.0        0.0     0.0   \n",
       "\n",
       "        jobdesc_len  number_comp  \n",
       "count    910.000000   910.000000  \n",
       "mean    3918.564835     0.948352  \n",
       "std     1431.082758     1.324464  \n",
       "min      703.000000     0.000000  \n",
       "25%     2935.500000     0.000000  \n",
       "50%     3820.000000     0.000000  \n",
       "75%     4701.000000     3.000000  \n",
       "max    11384.000000     4.000000  "
      ]
     },
     "execution_count": 29,
     "metadata": {},
     "output_type": "execute_result"
    }
   ],
   "source": [
    "df.describe()"
   ]
  },
  {
   "cell_type": "code",
   "execution_count": 33,
   "metadata": {},
   "outputs": [
    {
     "data": {
      "text/plain": [
       "<matplotlib.axes._subplots.AxesSubplot at 0x28d54b70fd0>"
      ]
     },
     "execution_count": 33,
     "metadata": {},
     "output_type": "execute_result"
    },
    {
     "data": {
      "image/png": "[encoded data removed]",
      "text/plain": [
       "<Figure size 432x288 with 1 Axes>"
      ]
     },
     "metadata": {},
     "output_type": "display_data"
    }
   ],
   "source": [
    "df.Rating.hist()"
   ]
  },
  {
   "cell_type": "code",
   "execution_count": 34,
   "metadata": {},
   "outputs": [
    {
     "data": {
      "text/plain": [
       "<matplotlib.axes._subplots.AxesSubplot at 0x28d55541a58>"
      ]
     },
     "execution_count": 34,
     "metadata": {},
     "output_type": "execute_result"
    },
    {
     "data": {
      "image/png": "[encoded data removed]",
      "text/plain": [
       "<Figure size 432x288 with 1 Axes>"
      ]
     },
     "metadata": {},
     "output_type": "display_data"
    }
   ],
   "source": [
    "df.avg_salary.hist()"
   ]
  },
  {
   "cell_type": "code",
   "execution_count": 37,
   "metadata": {},
   "outputs": [
    {
     "data": {
      "text/plain": [
       "<matplotlib.axes._subplots.AxesSubplot at 0x28d5571c518>"
      ]
     },
     "execution_count": 37,
     "metadata": {},
     "output_type": "execute_result"
    },
    {
     "data": {
      "image/png": "[encoded data removed]",
      "text/plain": [
       "<Figure size 432x288 with 1 Axes>"
      ]
     },
     "metadata": {},
     "output_type": "display_data"
    }
   ],
   "source": [
    "df.Company_Age.hist()"
   ]
  },
  {
   "cell_type": "code",
   "execution_count": 42,
   "metadata": {},
   "outputs": [
    {
     "data": {
      "text/plain": [
       "<matplotlib.axes._subplots.AxesSubplot at 0x28d55782f60>"
      ]
     },
     "execution_count": 42,
     "metadata": {},
     "output_type": "execute_result"
    },
    {
     "data": {
      "image/png": "[encoded data removed]",
      "text/plain": [
       "<Figure size 432x288 with 1 Axes>"
      ]
     },
     "metadata": {},
     "output_type": "display_data"
    }
   ],
   "source": [
    "df. jobdesc_len.hist()"
   ]
  },
  {
   "cell_type": "code",
   "execution_count": 45,
   "metadata": {
    "scrolled": true
   },
   "outputs": [
    {
     "data": {
      "text/plain": [
       "<matplotlib.axes._subplots.AxesSubplot at 0x28d55893b70>"
      ]
     },
     "execution_count": 45,
     "metadata": {},
     "output_type": "execute_result"
    },
    {
     "data": {
      "image/png": "[encoded data removed]",
      "text/plain": [
       "<Figure size 432x288 with 1 Axes>"
      ]
     },
     "metadata": {},
     "output_type": "display_data"
    }
   ],
   "source": [
    "df.boxplot(column = ['Rating', 'avg_salary', 'Company_Age'])  "
   ]
  },
  {
   "cell_type": "code",
   "execution_count": 46,
   "metadata": {},
   "outputs": [
    {
     "data": {
      "text/plain": [
       "<matplotlib.axes._subplots.AxesSubplot at 0x28d55912400>"
      ]
     },
     "execution_count": 46,
     "metadata": {},
     "output_type": "execute_result"
    },
    {
     "data": {
      "image/png": "[encoded data removed]",
      "text/plain": [
       "<Figure size 432x288 with 1 Axes>"
      ]
     },
     "metadata": {},
     "output_type": "display_data"
    }
   ],
   "source": [
    "df.boxplot(column = ['Rating'])"
   ]
  },
  {
   "cell_type": "code",
   "execution_count": 48,
   "metadata": {},
   "outputs": [
    {
     "data": {
      "text/html": [
       "<div>\n",
       "<style scoped>\n",
       "    .dataframe tbody tr th:only-of-type {\n",
       "        vertical-align: middle;\n",
       "    }\n",
       "\n",
       "    .dataframe tbody tr th {\n",
       "        vertical-align: top;\n",
       "    }\n",
       "\n",
       "    .dataframe thead th {\n",
       "        text-align: right;\n",
       "    }\n",
       "</style>\n",
       "<table border=\"1\" class=\"dataframe\">\n",
       "  <thead>\n",
       "    <tr style=\"text-align: right;\">\n",
       "      <th></th>\n",
       "      <th>Rating</th>\n",
       "      <th>avg_salary</th>\n",
       "      <th>Company_Age</th>\n",
       "      <th>jobdesc_len</th>\n",
       "    </tr>\n",
       "  </thead>\n",
       "  <tbody>\n",
       "    <tr>\n",
       "      <th>Rating</th>\n",
       "      <td>1.000000</td>\n",
       "      <td>0.035749</td>\n",
       "      <td>-0.225845</td>\n",
       "      <td>-0.157123</td>\n",
       "    </tr>\n",
       "    <tr>\n",
       "      <th>avg_salary</th>\n",
       "      <td>0.035749</td>\n",
       "      <td>1.000000</td>\n",
       "      <td>-0.021542</td>\n",
       "      <td>0.009198</td>\n",
       "    </tr>\n",
       "    <tr>\n",
       "      <th>Company_Age</th>\n",
       "      <td>-0.225845</td>\n",
       "      <td>-0.021542</td>\n",
       "      <td>1.000000</td>\n",
       "      <td>0.104772</td>\n",
       "    </tr>\n",
       "    <tr>\n",
       "      <th>jobdesc_len</th>\n",
       "      <td>-0.157123</td>\n",
       "      <td>0.009198</td>\n",
       "      <td>0.104772</td>\n",
       "      <td>1.000000</td>\n",
       "    </tr>\n",
       "  </tbody>\n",
       "</table>\n",
       "</div>"
      ],
      "text/plain": [
       "               Rating  avg_salary  Company_Age  jobdesc_len\n",
       "Rating       1.000000    0.035749    -0.225845    -0.157123\n",
       "avg_salary   0.035749    1.000000    -0.021542     0.009198\n",
       "Company_Age -0.225845   -0.021542     1.000000     0.104772\n",
       "jobdesc_len -0.157123    0.009198     0.104772     1.000000"
      ]
     },
     "execution_count": 48,
     "metadata": {},
     "output_type": "execute_result"
    }
   ],
   "source": [
    "df[['Rating', 'avg_salary', 'Company_Age', 'jobdesc_len']].corr() "
   ]
  },
  {
   "cell_type": "code",
   "execution_count": 50,
   "metadata": {},
   "outputs": [
    {
     "data": {
      "text/plain": [
       "<matplotlib.axes._subplots.AxesSubplot at 0x28d55a652e8>"
      ]
     },
     "execution_count": 50,
     "metadata": {},
     "output_type": "execute_result"
    },
    {
     "data": {
      "image/png": "[encoded data removed]",
      "text/plain": [
       "<Figure size 432x288 with 2 Axes>"
      ]
     },
     "metadata": {},
     "output_type": "display_data"
    }
   ],
   "source": [
    "cmap = sns.diverging_palette(220, 10, as_cmap=True)\n",
    "sns.heatmap(df[['Rating', 'avg_salary', 'Company_Age', 'jobdesc_len']].corr(), vmax=.3, center=0, cmap = cmap,\n",
    "            square=True, linewidths=.5, cbar_kws={\"shrink\": .5})"
   ]
  },
  {
   "cell_type": "markdown",
   "metadata": {},
   "source": []
  }
 ],
 "metadata": {
  "kernelspec": {
   "display_name": "Python 3",
   "language": "python",
   "name": "python3"
  },
  "language_info": {
   "codemirror_mode": {
    "name": "ipython",
    "version": 3
   },
   "file_extension": ".py",
   "mimetype": "text/x-python",
   "name": "python",
   "nbconvert_exporter": "python",
   "pygments_lexer": "ipython3",
   "version": "3.6.5"
  }
 },
 "nbformat": 4,
 "nbformat_minor": 2
}
